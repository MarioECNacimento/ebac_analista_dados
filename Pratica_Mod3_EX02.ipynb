{
 "cells": [
  {
   "cell_type": "code",
   "execution_count": 21,
   "metadata": {},
   "outputs": [],
   "source": [
    "import numpy as np"
   ]
  },
  {
   "cell_type": "markdown",
   "metadata": {},
   "source": [
    "### 1) Alturas  \n",
    "i. No trecho de código abaixo, crie um ndarray chamado ```altura_em_centimetros``` transformando a lista ```lista_de_alturas``` em um ndarray do numpy com a função ```np.array()```  \n",
    "ii. Crie um outro objeto ```altura em metros```, com os valores de ```altura_em_centimetros``` convertidos para metros."
   ]
  },
  {
   "cell_type": "code",
   "execution_count": 22,
   "metadata": {},
   "outputs": [],
   "source": [
    "lista_de_centimetros = list(range(170, 190, 5))"
   ]
  },
  {
   "cell_type": "code",
   "execution_count": 24,
   "metadata": {},
   "outputs": [
    {
     "name": "stdout",
     "output_type": "stream",
     "text": [
      "A 1ª altura em cm é: 170cm\n",
      "A 2ª altura em cm é: 175cm\n",
      "A 3ª altura em cm é: 180cm\n",
      "A 4ª altura em cm é: 185cm\n"
     ]
    }
   ],
   "source": [
    "altura_em_centimetros = np.array(lista_de_centimetros)\n",
    "for k, v in enumerate(altura_em_centimetros):\n",
    "    print(f'A {k +1}ª altura em cm é: {v}cm')"
   ]
  },
  {
   "cell_type": "code",
   "execution_count": 25,
   "metadata": {},
   "outputs": [
    {
     "name": "stdout",
     "output_type": "stream",
     "text": [
      "A 1ª altura em metros é: 1.7m\n",
      "A 2ª altura em metros é: 1.75m\n",
      "A 3ª altura em metros é: 1.8m\n",
      "A 4ª altura em metros é: 1.85m\n"
     ]
    }
   ],
   "source": [
    "altura_em_metros = altura_em_centimetros / 100\n",
    "\n",
    "for k, v in enumerate(altura_em_metros):\n",
    "    print(f'A {k +1}ª altura em metros é: {v}m')"
   ]
  },
  {
   "cell_type": "markdown",
   "metadata": {},
   "source": [
    "### 2) IMC  \n",
    "i. Considere que pesos em Kg dessas pessoas, na mesma ortem, estão na lista pesos ```lista_pesos = [70, 75, 80, 85]```. Crie um **ndarray** chamado ```pesos``` com a função ```np.array()``` que contenha esses valores.  \n",
    "ii. Utilizando o objeto que contém as alturas em metros e esse objeto que contém os respectivos pesos em quilos, calcule o IMC desses indivíduos utilizando a aritmética de arrays e guarde os resultados em um objeto chamado ```imc```."
   ]
  },
  {
   "cell_type": "code",
   "execution_count": 27,
   "metadata": {},
   "outputs": [
    {
     "name": "stdout",
     "output_type": "stream",
     "text": [
      "1º peso: 70kg\n",
      "2º peso: 75kg\n",
      "3º peso: 80kg\n",
      "4º peso: 85kg\n"
     ]
    }
   ],
   "source": [
    "lista_pesos = [70, 75, 80, 85]\n",
    "# seu código aqui\n",
    "pesos = np.array(lista_pesos)\n",
    "for k, v in enumerate(pesos):\n",
    "    print(f'{k +1}º peso: {v}kg')"
   ]
  },
  {
   "cell_type": "code",
   "execution_count": 38,
   "metadata": {},
   "outputs": [
    {
     "name": "stdout",
     "output_type": "stream",
     "text": [
      "1º peso: 24.221453287197235kg\n",
      "2º peso: 24.489795918367346kg\n",
      "3º peso: 24.691358024691358kg\n",
      "4º peso: 24.835646457268076kg\n"
     ]
    }
   ],
   "source": [
    "# calcule o IMC dessas pessoas\n",
    "imc = pesos / altura_em_metros**2\n",
    "for k, v in enumerate(imc):\n",
    "    print(f'{k +1}º peso: {v}kg')"
   ]
  },
  {
   "cell_type": "code",
   "execution_count": 39,
   "metadata": {},
   "outputs": [
    {
     "name": "stdout",
     "output_type": "stream",
     "text": [
      "A 1ª pessoa possui o peso de 70kg, a altura de 1.7m e o IMC de 24.22\n",
      "A 2ª pessoa possui o peso de 75kg, a altura de 1.75m e o IMC de 24.49\n",
      "A 3ª pessoa possui o peso de 80kg, a altura de 1.8m e o IMC de 24.69\n",
      "A 4ª pessoa possui o peso de 85kg, a altura de 1.85m e o IMC de 24.84\n"
     ]
    }
   ],
   "source": [
    "for c in range(0, len(imc)):\n",
    "    print(f'A {c+1}ª pessoa possui o peso de {pesos[c]}kg, a altura de {altura_em_metros[c]}m e o IMC de {round(imc[c], 2)}')"
   ]
  },
  {
   "cell_type": "markdown",
   "metadata": {},
   "source": [
    "### 3) Endividamento\n",
    "\n",
    "Cálculos de novas variáveis como endividamento total e comprometimento de renda são essenciais para a construção de modelos financeiros em ciência de dados. Áreas não financeiras terão cálculos semelhantes também. Vamos praticar:\n",
    "\n",
    "Considere que o seguinte ndarray contém os dados de 4 pessoas, total a ser pago a empréstimos mensalmente e renda familiar:\n",
    "\n",
    "| custo fixo | dívida financeira | renda familiar |\n",
    "|:----:|:----:|:---|\n",
    "| 3000  | 1000 | 6000 |\n",
    "| 2500  | 2500 | 5500 |\n",
    "| 1000  | 3000 | 7000 |\n",
    "| 10000 | 5000 | 16000 |\n",
    "\n",
    "i. Transforme a lista de listas ```dados_financeiros``` no ndarray ```nd_financeiros```.\n",
    "> ``` dados_financeiros[[3000, 2500, 1000, 10000],[1000, 2500, 3000, 5000],[6000, 5500, 7000, 16000]] ```\n",
    "\n",
    "ii. Utilize o método ```.transpose ``` e certifique-se de que esse ndarray tenha uma linha por indivíduo e uma coluna por informação. Utilizando a indexação do numpy, imprima no output a segunda linha do array, depois a segunda coluna.\n",
    "\n",
    "iii. Pratique aritmética com nearrays e calcule o endividamento total como:\n",
    "$$endividamento\\hspace{.2cm}total = \\frac{custo \\hspace{.2cm}fixo + dívida\\hspace{.2cm}financeira}{renda\\hspace{.2cm}familiar}$$\n",
    "Guarde os resultados em uma variável chamada ```endividamento_total``` e verifique os resultados imprimindo o conteúdo dessa variável no output.\n",
    "\n",
    "iv. Considere que há um erro de digitação que precisa ser corrigido: 3o indivíduo na verdade não possui renda familiar de R\\\\$7.000,00, mas sim R\\\\$ 10.000,00. Corrija esse valor e refaça os cálculos."
   ]
  },
  {
   "cell_type": "code",
   "execution_count": 70,
   "metadata": {},
   "outputs": [],
   "source": [
    "# lista dados_financeiros\n",
    "dados_financeiros = [[3000, 2500, 1000, 10000],[1000, 2500, 3000, 5000],[6000, 5500, 7000, 16000]]\n"
   ]
  },
  {
   "cell_type": "code",
   "execution_count": 75,
   "metadata": {},
   "outputs": [
    {
     "name": "stdout",
     "output_type": "stream",
     "text": [
      "Os dados do financeiro: \n",
      "[[ 3000  2500  1000 10000]\n",
      " [ 1000  2500  3000  5000]\n",
      " [ 6000  5500  7000 16000]]\n"
     ]
    }
   ],
   "source": [
    "nd_finaceitos = np.array(dados_financeiros)\n",
    "print(f'Os dados do financeiro: \\n{nd_financeiros}')"
   ]
  },
  {
   "cell_type": "code",
   "execution_count": 76,
   "metadata": {},
   "outputs": [
    {
     "name": "stdout",
     "output_type": "stream",
     "text": [
      "Os dados transposto do financeiro: \n",
      "[[ 3000  1000  6000]\n",
      " [ 2500  2500  5500]\n",
      " [ 1000  3000  7000]\n",
      " [10000  5000 16000]]\n"
     ]
    }
   ],
   "source": [
    "nd_financeiros = nd_financeiros.transpose()\n",
    "print(f'Os dados transposto do financeiro: \\n{nd_financeiros}')"
   ]
  },
  {
   "cell_type": "code",
   "execution_count": 77,
   "metadata": {},
   "outputs": [
    {
     "name": "stdout",
     "output_type": "stream",
     "text": [
      "O endividamento total: \n",
      "[0.66666667 0.90909091 0.57142857 0.9375    ]\n"
     ]
    }
   ],
   "source": [
    "endividamento_total = (nd_financeiros[:,0] + nd_financeiros[:,1]) / nd_financeiros[:,2]\n",
    "print(f'O endividamento total: \\n{endividamento_total}')"
   ]
  },
  {
   "cell_type": "code",
   "execution_count": 78,
   "metadata": {},
   "outputs": [
    {
     "name": "stdout",
     "output_type": "stream",
     "text": [
      "Os dados do financeiro: \n",
      "[[ 3000  1000  6000]\n",
      " [ 2500  2500  5500]\n",
      " [ 1000  3000  1000]\n",
      " [10000  5000 16000]]\n"
     ]
    }
   ],
   "source": [
    "nd_financeiros[2,2] = 1000\n",
    "print(f'Os dados do financeiro: \\n{nd_financeiros}')\n"
   ]
  },
  {
   "cell_type": "code",
   "execution_count": 79,
   "metadata": {},
   "outputs": [
    {
     "name": "stdout",
     "output_type": "stream",
     "text": [
      "O endividamento total: \n",
      "[0.66666667 0.90909091 4.         0.9375    ]\n"
     ]
    }
   ],
   "source": [
    "endividamento_total = (nd_financeiros[:,0] + nd_financeiros[:,1]) / nd_financeiros[:,2]\n",
    "print(f'O endividamento total: \\n{endividamento_total}')"
   ]
  },
  {
   "cell_type": "markdown",
   "metadata": {},
   "source": [
    "### 4) É muito comum precisarmos identificar valores especiais e darmos tratamento a eles quer seja alterando-os quer seja descartando-os. \n",
    "\n",
    "O trecho de código abaixo gera um ndarray com números pseudo aleatórios. Considere que para efeitos do estudo que virá, devemos desconsiderar valores iguais a zero. Sendo assim:\n",
    "\n",
    "i) crie um objeto ```bool_zero``` que traga uma sequencia de booleanos do mesmo tamanho que o objeto poi, e que vale ```True``` quando o valor de ```poi``` é zero, e ```False``` caso contrário.\n",
    "\n",
    "ii) Conte quantos valores zero existem. Lembre-se de que no final das contas, ```True``` vale 1 para o Python, e ```False``` vale zero, então uma boa dica seria usar a função ```sum()```.\n",
    "\n",
    "iii) Utilize a indexação booleana que você aprendeu para criar uma variável ```poi_nao_zero``` que aponta para os elementos de ```poi``` diferentes de zero. Dica: você vai pode inverter os elementos do objeto que criou em *ii)* ou escrever a comparação adequada."
   ]
  },
  {
   "cell_type": "code",
   "execution_count": 80,
   "metadata": {},
   "outputs": [
    {
     "data": {
      "text/plain": [
       "array([3, 3, 6, 2, 4, 5, 4, 4, 2, 0, 3, 3, 2, 8, 2, 3, 3, 3, 0, 4, 4, 2,\n",
       "       6, 6, 0, 3, 4, 3, 5, 2, 1, 3, 2, 2, 3, 2, 4, 4, 5, 7, 3, 5, 3, 3,\n",
       "       2, 2, 3, 6, 2, 2, 4, 3, 5, 2, 5, 3, 0, 2, 1, 1, 4, 4, 4, 6, 2, 4,\n",
       "       1, 2, 5, 5, 3, 4, 1, 4, 1, 1, 7, 1, 2, 1, 3, 7, 0, 4, 4, 0, 6, 1,\n",
       "       3, 4, 2, 5, 4, 5, 5, 3, 4, 6, 8, 2])"
      ]
     },
     "execution_count": 80,
     "metadata": {},
     "output_type": "execute_result"
    }
   ],
   "source": [
    "# objeto poi - obs: o comando np.random.seed(1234) garante que o mesmo resultado será gerado sempre\n",
    "np.random.seed(1234)\n",
    "poi = np.random.poisson(3, 100)\n",
    "poi"
   ]
  },
  {
   "cell_type": "code",
   "execution_count": 81,
   "metadata": {},
   "outputs": [
    {
     "data": {
      "text/plain": [
       "array([False, False, False, False, False, False, False, False, False,\n",
       "        True, False, False, False, False, False, False, False, False,\n",
       "        True, False, False, False, False, False,  True, False, False,\n",
       "       False, False, False, False, False, False, False, False, False,\n",
       "       False, False, False, False, False, False, False, False, False,\n",
       "       False, False, False, False, False, False, False, False, False,\n",
       "       False, False,  True, False, False, False, False, False, False,\n",
       "       False, False, False, False, False, False, False, False, False,\n",
       "       False, False, False, False, False, False, False, False, False,\n",
       "       False,  True, False, False,  True, False, False, False, False,\n",
       "       False, False, False, False, False, False, False, False, False,\n",
       "       False])"
      ]
     },
     "execution_count": 81,
     "metadata": {},
     "output_type": "execute_result"
    }
   ],
   "source": [
    "# i) crie o objeto bool_zero através do operador ==\n",
    "bool_zero = poi == 0\n",
    "bool_zero"
   ]
  },
  {
   "cell_type": "code",
   "execution_count": 82,
   "metadata": {},
   "outputs": [
    {
     "data": {
      "text/plain": [
       "6"
      ]
     },
     "execution_count": 82,
     "metadata": {},
     "output_type": "execute_result"
    }
   ],
   "source": [
    "# ii) Conte a quantidade de zeros (ou some os elementos de bool_zero)\n",
    "sum(bool_zero)"
   ]
  },
  {
   "cell_type": "code",
   "execution_count": 83,
   "metadata": {},
   "outputs": [
    {
     "data": {
      "text/plain": [
       "array([3, 3, 6, 2, 4, 5, 4, 4, 2, 3, 3, 2, 8, 2, 3, 3, 3, 4, 4, 2, 6, 6,\n",
       "       3, 4, 3, 5, 2, 1, 3, 2, 2, 3, 2, 4, 4, 5, 7, 3, 5, 3, 3, 2, 2, 3,\n",
       "       6, 2, 2, 4, 3, 5, 2, 5, 3, 2, 1, 1, 4, 4, 4, 6, 2, 4, 1, 2, 5, 5,\n",
       "       3, 4, 1, 4, 1, 1, 7, 1, 2, 1, 3, 7, 4, 4, 6, 1, 3, 4, 2, 5, 4, 5,\n",
       "       5, 3, 4, 6, 8, 2])"
      ]
     },
     "execution_count": 83,
     "metadata": {},
     "output_type": "execute_result"
    }
   ],
   "source": [
    "# iii) utilize a indexação booleana para criar uma seleção de não-zeros\n",
    "# dica: inverta o objeto bool_zero\n",
    "poi_nao_zero = poi[~bool_zero]\n",
    "poi_nao_zero"
   ]
  },
  {
   "cell_type": "code",
   "execution_count": null,
   "metadata": {},
   "outputs": [],
   "source": []
  }
 ],
 "metadata": {
  "kernelspec": {
   "display_name": "Python 3 (ipykernel)",
   "language": "python",
   "name": "python3"
  },
  "language_info": {
   "codemirror_mode": {
    "name": "ipython",
    "version": 3
   },
   "file_extension": ".py",
   "mimetype": "text/x-python",
   "name": "python",
   "nbconvert_exporter": "python",
   "pygments_lexer": "ipython3",
   "version": "3.9.12"
  }
 },
 "nbformat": 4,
 "nbformat_minor": 4
}
