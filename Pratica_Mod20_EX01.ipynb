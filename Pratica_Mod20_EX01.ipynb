{
 "cells": [
  {
   "cell_type": "markdown",
   "id": "4711efdd",
   "metadata": {},
   "source": [
    "## Tarefa 01 - Modulo 20\n",
    "\n",
    "### Equação do 2º grau\n",
    "\n",
    "A solução para uma função do segundo grau, depende das suas raízes (valores de **x**). Como já vimos, os coeficientes\n",
    "precisam ser npumeros reais e o angular diferente de zero. Sendo assim, temos a seguinte fórmula da equação. \n",
    "\n",
    "## $$ x = \\frac {-b \\pm \\sqrt{b^2 - 4ac}}{2a}$$\n",
    "\n",
    "\n",
    "**<center>equação 2º grau**\n",
    "\n",
    "Para melhor compreensão o seu cálculo é dividido em duas partes: discriminante da equação e operações para determinar as raízes.\n",
    "\n",
    "#### Discriminante\n",
    "\n",
    "A figura dentro da raiz na fórmula da equação de segundo grau é nomeada de discriminante. Seu símbolo é a letra grega delta, $\\Delta$ e apresenta a determinada fórmula:\n",
    "\n",
    "## $$ \\Delta = b^2 - 4ac$$\n",
    "\n",
    "**<center>formula do discriminante**\n",
    "\n",
    "- **Se o delta for maior que zero, a equação terá dois valores reais e distintos.** \n",
    "- **Se o delta for igual a zero, a equação terá somente um valor real ou dois resultados iguais.**\n",
    "- **Se o delta for menor que zero, a equação não possuirá valores reais.**\n",
    "\n",
    "\n",
    "Portanto, é fundamental o valor de delta para definir as raízes de uma função do segundo grau. Substituindo o discriminante e os coeficientes, na equação do segundo grau. Na fórmula aparece o sinal de “±”. Isso indica que deve ser realizado duas operações. Na primeira, quando o valor que segue a discriminante for positivo. Já na segunda, quando o valor que segue a discriminante for negativo, ou seja:\n",
    "\n",
    "- ### raiz positiva:\n",
    "\n",
    "## $$ x_1 =  \\frac{-b + \\sqrt{\\Delta}}{2a}$$\n",
    "\n",
    "- ### raiz negativa:\n",
    "\n",
    "## $$ x_2 =  \\frac{-b - \\sqrt{\\Delta}}{2a}$$\n",
    "\n",
    "\n",
    "```python\n",
    "\n",
    "```\n"
   ]
  },
  {
   "cell_type": "code",
   "execution_count": null,
   "id": "aff57274",
   "metadata": {},
   "outputs": [],
   "source": []
  }
 ],
 "metadata": {
  "kernelspec": {
   "display_name": "Python 3 (ipykernel)",
   "language": "python",
   "name": "python3"
  },
  "language_info": {
   "codemirror_mode": {
    "name": "ipython",
    "version": 3
   },
   "file_extension": ".py",
   "mimetype": "text/x-python",
   "name": "python",
   "nbconvert_exporter": "python",
   "pygments_lexer": "ipython3",
   "version": "3.9.12"
  }
 },
 "nbformat": 4,
 "nbformat_minor": 5
}
